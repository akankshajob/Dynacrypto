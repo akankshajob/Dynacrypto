{
 "cells": [
  {
   "cell_type": "code",
   "execution_count": 15,
   "id": "0242e897-3bb5-45be-9df7-a567092fe17e",
   "metadata": {},
   "outputs": [
    {
     "name": "stdout",
     "output_type": "stream",
     "text": [
      "📄 Latest file found: raw-data/crypto-live-2025-08-02T16-30-12.json\n",
      "✅ Data loaded from latest file\n",
      "{\n",
      "  \"bitcoin\": {\n",
      "    \"usd\": 112864\n",
      "  },\n",
      "  \"ethereum\": {\n",
      "    \"usd\": 3450.17\n",
      "  },\n",
      "  \"solana\": {\n",
      "    \"usd\": 161.15\n",
      "  }\n",
      "}\n"
     ]
    }
   ],
   "source": [
    "import boto3\n",
    "import pandas as pd\n",
    "import json\n",
    "\n",
    "bucket_name = 'serverless-etl-pipeline-akanksha'\n",
    "prefix = 'raw-data/'\n",
    "\n",
    "s3 = boto3.client('s3')\n",
    "\n",
    "# Step 1: List all objects in the raw-data folder\n",
    "response = s3.list_objects_v2(Bucket=bucket_name, Prefix=prefix)\n",
    "\n",
    "# Step 2: Extract all object keys\n",
    "files = [obj['Key'] for obj in response.get('Contents', []) if obj['Key'].endswith('.json')]\n",
    "\n",
    "# Step 3: Sort keys by timestamp in filename\n",
    "latest_file = sorted(files)[-1]  # Assumes filenames have timestamp format so sorting works\n",
    "\n",
    "print(f\"📄 Latest file found: {latest_file}\")\n",
    "\n",
    "# Step 4: Read latest file from S3\n",
    "response = s3.get_object(Bucket=bucket_name, Key=latest_file)\n",
    "content = response['Body'].read()\n",
    "\n",
    "# Step 5: Load JSON\n",
    "data = json.loads(content)\n",
    "print(\"✅ Data loaded from latest file\")\n",
    "print(json.dumps(data, indent=2))\n"
   ]
  },
  {
   "cell_type": "code",
   "execution_count": 17,
   "id": "7593ffee-d872-4a78-8190-ebb9195317ab",
   "metadata": {},
   "outputs": [
    {
     "name": "stdout",
     "output_type": "stream",
     "text": [
      "       coin  price_usd\n",
      "0   bitcoin  112864.00\n",
      "1  ethereum    3450.17\n",
      "2    solana     161.15\n"
     ]
    },
    {
     "data": {
      "image/png": "[encoded data removed]",
      "text/plain": [
       "<Figure size 640x480 with 1 Axes>"
      ]
     },
     "metadata": {},
     "output_type": "display_data"
    }
   ],
   "source": [
    "import pandas as pd\n",
    "\n",
    "# Flatten the nested JSON structure\n",
    "flattened = []\n",
    "for coin, info in data.items():\n",
    "    flattened.append({\n",
    "        'coin': coin,\n",
    "        'price_usd': info['usd']\n",
    "    })\n",
    "\n",
    "# Create DataFrame\n",
    "df = pd.DataFrame(flattened)\n",
    "\n",
    "# Show DataFrame\n",
    "print(df)\n",
    "\n",
    "# Optional: plot\n",
    "import matplotlib.pyplot as plt\n",
    "\n",
    "df.plot(x='coin', y='price_usd', kind='bar', legend=False, color='skyblue')\n",
    "plt.title(\"Live Crypto Prices\")\n",
    "plt.ylabel(\"Price (USD)\")\n",
    "plt.xticks(rotation=0)\n",
    "plt.grid(axis='y')\n",
    "plt.tight_layout()\n",
    "plt.show()\n"
   ]
  },
  {
   "cell_type": "code",
   "execution_count": null,
   "id": "b17db112-eba3-4dd8-bbbe-08fc0d7969a0",
   "metadata": {},
   "outputs": [],
   "source": []
  },
  {
   "cell_type": "code",
   "execution_count": null,
   "id": "ec021d04-0298-4bd4-86aa-760cbeb60a53",
   "metadata": {},
   "outputs": [],
   "source": []
  }
 ],
 "metadata": {
  "kernelspec": {
   "display_name": "Python 3 (ipykernel)",
   "language": "python",
   "name": "python3"
  },
  "language_info": {
   "codemirror_mode": {
    "name": "ipython",
    "version": 3
   },
   "file_extension": ".py",
   "mimetype": "text/x-python",
   "name": "python",
   "nbconvert_exporter": "python",
   "pygments_lexer": "ipython3",
   "version": "3.11.7"
  }
 },
 "nbformat": 4,
 "nbformat_minor": 5
}
